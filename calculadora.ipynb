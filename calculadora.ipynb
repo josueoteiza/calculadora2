{
  "nbformat": 4,
  "nbformat_minor": 0,
  "metadata": {
    "colab": {
      "provenance": [],
      "authorship_tag": "ABX9TyN7KoWTGlLcoItfjNMJoONJ",
      "include_colab_link": true
    },
    "kernelspec": {
      "name": "python3",
      "display_name": "Python 3"
    },
    "language_info": {
      "name": "python"
    }
  },
  "cells": [
    {
      "cell_type": "markdown",
      "metadata": {
        "id": "view-in-github",
        "colab_type": "text"
      },
      "source": [
        "<a href=\"https://colab.research.google.com/github/josueoteiza/calculadora2/blob/suma-3-valores/calculadora.ipynb\" target=\"_parent\"><img src=\"https://colab.research.google.com/assets/colab-badge.svg\" alt=\"Open In Colab\"/></a>"
      ]
    },
    {
      "cell_type": "code",
      "execution_count": 2,
      "metadata": {
        "colab": {
          "base_uri": "https://localhost:8080/"
        },
        "id": "hPN_k_vrSlju",
        "outputId": "528dea2c-bc90-4f29-94f6-f798a5df747c"
      },
      "outputs": [
        {
          "output_type": "stream",
          "name": "stdout",
          "text": [
            "numero 1: 5\n",
            "numero 2: 2\n",
            "numero 3: 1\n",
            "seleccione opcion\n",
            "            1- Sumar \n",
            "            2- Restar\n",
            "            3- Multiplicar\n",
            "            4- dividir \n",
            "        \n",
            "Elige una opcion: 1\n",
            "la suma es 8\n"
          ]
        }
      ],
      "source": [
        "num1 = int(input(\"numero 1: \"))\n",
        "num2 = int(input(\"numero 2: \"))\n",
        "num3 = int(input(\"numero 3: \"))\n",
        "\n",
        "valor = 0\n",
        "while True:\n",
        "    print(\"\"\"seleccione opcion\n",
        "            1- Sumar\n",
        "            2- Restar\n",
        "            3- Multiplicar\n",
        "            4- dividir\n",
        "        \"\"\")\n",
        "\n",
        "    valor = int(input(\"Elige una opcion: \") )\n",
        "\n",
        "    if valor == 1:\n",
        "        print(\"la suma es\",num1+num2+num3)\n",
        "        break;\n",
        "    if valor == 2:\n",
        "        print(\"la resta es\",num1-num2-num3)\n",
        "        break;\n",
        "    if valor == 3:\n",
        "        print(\"la multiplicacion es\",num1*num2*num3)\n",
        "        break;\n",
        "    if valor == 4:\n",
        "        print(\"la division es\",num1/num2)\n",
        "        break;\n",
        "    else:\n",
        "        print(\"Opcion incorrecta\")\n",
        "        break;"
      ]
    }
  ]
}